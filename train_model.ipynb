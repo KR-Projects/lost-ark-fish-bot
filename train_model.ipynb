{
 "cells": [
  {
   "cell_type": "code",
   "execution_count": null,
   "metadata": {},
   "outputs": [],
   "source": [
    "import tensorflow as tf\n",
    "import numpy as np\n",
    "import matplotlib.pyplot as plt\n",
    "from tensorflow import keras\n",
    "from keras.models import Model\n",
    "import keras_tuner\n",
    "\n",
    "data_path = \"./dataset\"\n",
    "\n",
    "physical_devices = tf.config.list_physical_devices(\"GPU\")\n",
    "print(f\"GPUs: {len(physical_devices)}\")"
   ]
  },
  {
   "cell_type": "code",
   "execution_count": null,
   "metadata": {},
   "outputs": [],
   "source": [
    "img_width = 200\n",
    "img_height = 100\n",
    "batch_size = 32\n",
    "\n",
    "train_data = keras.preprocessing.image_dataset_from_directory(\n",
    "    data_path + \"/training_set\",\n",
    "    label_mode=\"binary\",  # one-hot encoding with two columns\n",
    "    image_size=(img_width, img_height),\n",
    "    batch_size=batch_size,\n",
    "    validation_split=0.25,\n",
    "    subset=\"training\",\n",
    "    seed=0,\n",
    ")\n",
    "val_data = keras.preprocessing.image_dataset_from_directory(\n",
    "    data_path + \"/training_set\",\n",
    "    label_mode=\"binary\",\n",
    "    image_size=(img_width, img_height),\n",
    "    batch_size=batch_size,\n",
    "    validation_split=0.25,\n",
    "    subset=\"validation\",\n",
    "    seed=0,  # same seed as for training\n",
    ")\n",
    "\n",
    "test_data = keras.preprocessing.image_dataset_from_directory(\n",
    "    data_path + \"/test_set\",\n",
    "    label_mode=\"categorical\",\n",
    "    image_size=(img_width, img_height),\n",
    ")"
   ]
  },
  {
   "cell_type": "code",
   "execution_count": null,
   "metadata": {},
   "outputs": [],
   "source": [
    "def build_model(hp):\n",
    "    model = keras.models.Sequential()\n",
    "    model.add(keras.Input(shape=(img_width, img_height, 3)))\n",
    "\n",
    "    model.add(keras.layers.Rescaling(1/255))\n",
    "    model.add(keras.layers.Conv2D(16, 3, activation='relu', name='conv1'))\n",
    "    model.add(keras.layers.Conv2D(16, 3, activation='relu', name='conv2'))\n",
    "    model.add(keras.layers.MaxPooling2D(name='pool1'))\n",
    "    model.add(keras.layers.Conv2D(64, 3, activation='relu', name='conv3'))\n",
    "    model.add(keras.layers.Conv2D(64, 3, activation='relu', name='conv4'))\n",
    "    model.add(keras.layers.MaxPooling2D(name='pool2'))\n",
    "\n",
    "    model.add(keras.layers.Flatten())\n",
    "\n",
    "    model.add(keras.layers.Dense(20, activation=\"relu\"))\n",
    "    model.add(keras.layers.Dense(20, activation=\"relu\"))\n",
    "    model.add(keras.layers.Dense(20, activation=\"relu\"))\n",
    "\n",
    "    model.add(keras.layers.Dense(1, activation=\"sigmoid\", name=\"out\"))\n",
    "\n",
    "\n",
    "    model.compile(optimizer='adam', loss='binary_crossentropy', metrics=['accuracy'])\n",
    "    \n",
    "    return model"
   ]
  },
  {
   "cell_type": "code",
   "execution_count": null,
   "metadata": {},
   "outputs": [],
   "source": [
    "tuner = keras_tuner.RandomSearch(build_model, objective=\"val_accuracy\", max_trials=10,)\n",
    "tuner.search(train_data, validation_data=val_data, epochs=20)"
   ]
  },
  {
   "attachments": {},
   "cell_type": "markdown",
   "metadata": {},
   "source": [
    "### Best Model"
   ]
  },
  {
   "cell_type": "code",
   "execution_count": null,
   "metadata": {},
   "outputs": [],
   "source": [
    "best_hp = tuner.get_best_hyperparameters()[0]\n",
    "best_model = build_model(best_hp)\n",
    "best_model.summary()\n",
    "\n",
    "loss = []\n",
    "val_loss = []\n",
    "acc = []\n",
    "val_acc = []\n",
    "history = best_model.fit(train_data, epochs=15, validation_data=val_data)\n",
    "loss.extend(history.history[\"loss\"])\n",
    "val_loss.extend(history.history[\"val_loss\"])\n",
    "acc.extend(history.history[\"val_accuracy\"])\n",
    "val_acc.extend(history.history[\"val_accuracy\"])"
   ]
  },
  {
   "cell_type": "code",
   "execution_count": null,
   "metadata": {},
   "outputs": [],
   "source": [
    "fig, ax = plt.subplots()\n",
    "ax.plot(loss, \"-b\", label=\"training loss\")\n",
    "ax.plot(val_loss, \"-r\", label=\"validation loss\")\n",
    "ax.legend()\n",
    "plt.show()\n",
    "\n",
    "fig, ax = plt.subplots()\n",
    "ax.plot(acc, \"-b\", label=\"training accuracy\")\n",
    "ax.plot(val_acc, \"-r\", label=\"validation accuracy\")\n",
    "ax.legend()\n",
    "plt.show()"
   ]
  },
  {
   "attachments": {},
   "cell_type": "markdown",
   "metadata": {},
   "source": [
    "### Save Model"
   ]
  },
  {
   "cell_type": "code",
   "execution_count": null,
   "metadata": {},
   "outputs": [],
   "source": [
    "best_model.save(\"fish_model\")"
   ]
  }
 ],
 "metadata": {
  "kernelspec": {
   "display_name": "ds_default",
   "language": "python",
   "name": "python3"
  },
  "language_info": {
   "codemirror_mode": {
    "name": "ipython",
    "version": 3
   },
   "file_extension": ".py",
   "mimetype": "text/x-python",
   "name": "python",
   "nbconvert_exporter": "python",
   "pygments_lexer": "ipython3",
   "version": "3.9.16"
  },
  "orig_nbformat": 4
 },
 "nbformat": 4,
 "nbformat_minor": 2
}
