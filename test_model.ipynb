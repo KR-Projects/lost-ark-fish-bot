{
 "cells": [
  {
   "cell_type": "code",
   "execution_count": 1,
   "metadata": {},
   "outputs": [
    {
     "name": "stdout",
     "output_type": "stream",
     "text": [
      "Using TensorFlow backend\n",
      "GPUs: 1\n"
     ]
    }
   ],
   "source": [
    "import tensorflow as tf\n",
    "import numpy as np\n",
    "import matplotlib.pyplot as plt\n",
    "from tensorflow import keras\n",
    "from keras.models import Model\n",
    "import keras_tuner\n",
    "\n",
    "data_path = \"./dataset\"\n",
    "\n",
    "physical_devices = tf.config.list_physical_devices(\"GPU\")\n",
    "print(f\"GPUs: {len(physical_devices)}\")"
   ]
  },
  {
   "attachments": {},
   "cell_type": "markdown",
   "metadata": {},
   "source": [
    "### Load Model"
   ]
  },
  {
   "cell_type": "code",
   "execution_count": 2,
   "metadata": {},
   "outputs": [],
   "source": [
    "model = keras.models.load_model('./bot/fish_model')"
   ]
  },
  {
   "cell_type": "code",
   "execution_count": 3,
   "metadata": {},
   "outputs": [
    {
     "name": "stdout",
     "output_type": "stream",
     "text": [
      "Found 3404 files belonging to 2 classes.\n",
      "107/107 [==============================] - 4s 10ms/step\n"
     ]
    }
   ],
   "source": [
    "img_width = 200\n",
    "img_height = 100\n",
    "batch_size = 32\n",
    "\n",
    "test_data = keras.preprocessing.image_dataset_from_directory(\n",
    "    data_path + \"/real_test_set\",\n",
    "    label_mode=\"categorical\",\n",
    "    image_size=(img_width, img_height),\n",
    ")\n",
    "\n",
    "test_images, test_labels = [], []\n",
    "\n",
    "\n",
    "\n",
    "for batch in test_data:\n",
    "    X, y = batch\n",
    "    test_images.append(X)\n",
    "    test_labels.append(y)\n",
    "\n",
    "\n",
    "\n",
    "test_images = np.vstack(test_images)\n",
    "test_labels = np.vstack(test_labels)\n",
    "\n",
    "\n",
    "y_predict = model.predict(test_images)\n",
    "y_pred_binary = [1 if pred > 0.5 else 0 for pred in y_predict]"
   ]
  },
  {
   "cell_type": "code",
   "execution_count": null,
   "metadata": {},
   "outputs": [],
   "source": [
    "from plotly.subplots import make_subplots\n",
    "import numpy as np\n",
    "from sklearn.metrics import accuracy_score\n",
    "\n",
    "\n",
    "index = np.arange(len(test_labels))\n",
    "\n",
    "fig = make_subplots(rows=1, cols=1, subplot_titles=(\"Fish\"))\n",
    "\n",
    "fig.add_scatter(\n",
    "    x=index,\n",
    "    y=test_labels[:, 0],\n",
    "    mode=\"markers\",\n",
    "    name=\"fisch\",\n",
    "    marker_color=\"rgba(255, 0, 0, .6)\",\n",
    "    row=1,\n",
    "    col=1,\n",
    ")\n",
    "fig.add_scatter(\n",
    "    x=index,\n",
    "    y=y_predict[:, 0],\n",
    "    mode=\"markers\",\n",
    "    name=\"preditcion\",\n",
    "    marker_color=\"rgba(0, 0, 255, .6)\",\n",
    "    row=1,\n",
    "    col=1,\n",
    ")\n",
    "\n",
    "fig.update_layout(\n",
    "    title=f\"Accuracy {accuracy_score(test_labels[:,:1],y_pred_binary)*100:.2f} %\",\n",
    "    yaxis_zeroline=False,\n",
    "    xaxis_zeroline=False,\n",
    ")\n",
    "fig.show()"
   ]
  },
  {
   "cell_type": "code",
   "execution_count": 5,
   "metadata": {},
   "outputs": [],
   "source": [
    "wrong_predictions = np.where(np.int8(test_labels[:, :1])[:, 0] != y_pred_binary)[0]"
   ]
  },
  {
   "cell_type": "code",
   "execution_count": null,
   "metadata": {},
   "outputs": [],
   "source": [
    "from matplotlib.patches import Rectangle\n",
    "import matplotlib.pyplot as plt\n",
    "\n",
    "idx = 213\n",
    "threshold = 0.01\n",
    "\n",
    "\n",
    "def get_activations(model, layer_name, input_data):\n",
    "    activation_model = Model(\n",
    "        inputs=model.input, outputs=model.get_layer(layer_name).output\n",
    "    )\n",
    "    activations = activation_model.predict(input_data)\n",
    "    return activations\n",
    "\n",
    "def generate_heatmap(activations):\n",
    "    heatmap = np.mean(\n",
    "        activations, axis=-1\n",
    "    )\n",
    "    return heatmap\n",
    "\n",
    "for idx in wrong_predictions:\n",
    "    input_data = test_images[idx]\n",
    "    activations = get_activations(model, \"pool2\", np.expand_dims(input_data, axis=0))\n",
    "\n",
    "    fig, axes = plt.subplots(1, 3, figsize=(15, 5))\n",
    "\n",
    "    axes[0].imshow(1 / 255 * test_images[idx, :, :, :])\n",
    "    axes[0].set_title(f\"y: {test_labels[idx, 0]} pred: {y_predict[idx, 0]:.2f}\")\n",
    "\n",
    "    heatmap = generate_heatmap(activations)\n",
    "    axes[1].imshow(heatmap[0], cmap=\"viridis\")\n",
    "    axes[1].set_title(f\"activation region\")\n",
    "\n",
    "    y1, x1 = np.where(heatmap[0] > np.mean(heatmap[0]))\n",
    "\n",
    "    scale_x = 4.55\n",
    "    scale_y = 4.255\n",
    "    rect_width = int((max(x1) - min(x1)) * scale_x) + 2\n",
    "    rect_height = int((max(y1) - min(y1)) * scale_y) + 2\n",
    "\n",
    "    rect = Rectangle(\n",
    "        (int(min(x1) * scale_x) - 1, int(min(y1) * scale_y) - 1),\n",
    "        rect_width,\n",
    "        rect_height,\n",
    "        fill=False,\n",
    "        edgecolor=\"red\",\n",
    "        linewidth=2,\n",
    "    )\n",
    "\n",
    "    axes[2].imshow(1 / 255 * test_images[idx, :, :, :])\n",
    "    axes[2].add_patch(rect)\n",
    "    axes[2].set_title(f\"activation region\")\n",
    "\n",
    "    plt.show()"
   ]
  }
 ],
 "metadata": {
  "kernelspec": {
   "display_name": "ds_default",
   "language": "python",
   "name": "python3"
  },
  "language_info": {
   "codemirror_mode": {
    "name": "ipython",
    "version": 3
   },
   "file_extension": ".py",
   "mimetype": "text/x-python",
   "name": "python",
   "nbconvert_exporter": "python",
   "pygments_lexer": "ipython3",
   "version": "3.9.16"
  },
  "orig_nbformat": 4
 },
 "nbformat": 4,
 "nbformat_minor": 2
}
